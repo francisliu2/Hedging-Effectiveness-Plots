{
 "cells": [
  {
   "cell_type": "code",
   "execution_count": 5,
   "metadata": {},
   "outputs": [],
   "source": [
    "import numpy as np\n",
    "import pandas as pd\n",
    "import seaborn as sns\n",
    "import matplotlib.pyplot as plt\n",
    "import scipy.stats as ss\n",
    "import seaborn as sns\n",
    "import sys, os\n",
    "sys.path.append('./src/')\n",
    "import toolbox\n",
    "from toolbox import *\n",
    "\n",
    "result_names = ['BBT_Tiingo',                #0\n",
    "                'BBT_future_Tiingo_ada', \n",
    "                'BBT_future_Tiingo_eth',     #2\n",
    "                'BBT_future_Tiingo_ltc',\n",
    "                'BBT_future_Tiingo_xrp',     #4\n",
    "                'BBT_future_BITX',\n",
    "                'BBT_future_BITW20',         #6\n",
    "                'BBT_future_BITW70', \n",
    "                'BBT_future_BITW100',        #8\n",
    "                'BBT_future_CRIX']\n",
    "\n",
    "risk_measures = ['Variance',\n",
    "                 'ES q=0.05', 'ES q=0.01',\n",
    "                 'VaR q=0.05', 'VaR q=0.01', \n",
    "                 'ERM k=10', 'CH']\n",
    "\n",
    "order = ['BBT_Tiingo',    \n",
    "         'BBT_future_CRIX',  'BBT_future_BITX', 'BBT_future_BITW100', \n",
    "         'BBT_future_BITW20',  'BBT_future_BITW70',\n",
    "         'BBT_future_Tiingo_ada', 'BBT_future_Tiingo_eth',  'BBT_future_Tiingo_ltc','BBT_future_Tiingo_xrp']\n",
    "\n",
    "coin_names = ['btc', 'CRIX', 'BITX', 'BITW100', 'BITW20', 'BITW70', 'ada', 'eth', 'ltc', 'xrp']"
   ]
  },
  {
   "cell_type": "code",
   "execution_count": 6,
   "metadata": {},
   "outputs": [],
   "source": [
    "# Stationary Block Bootstrap 2.7.2 of Lahiri\n",
    "\n",
    "def SB(X, p, N):\n",
    "    # X: time series to be sampled\n",
    "    # p: param of Geometric distribution; 1/p = mean of block sample length\n",
    "    # N: number of SB samples\n",
    "     \n",
    "    I = np.random.choice(len(X), N, replace=True)\n",
    "    L = np.random.geometric(p=p, size=N)\n",
    "    L[L<=20] = 20\n",
    "    \n",
    "    X_repeat = np.repeat(X, np.floor(np.max(L)/len(X))+1, axis=0)\n",
    "#     print(np.mean(L))\n",
    "    samples = []\n",
    "    for i in range(len(I)):\n",
    "        s = X_repeat[I[i]: I[i]+L[i]]\n",
    "        samples.append(s)\n",
    "    \n",
    "    return samples"
   ]
  },
  {
   "cell_type": "code",
   "execution_count": 7,
   "metadata": {},
   "outputs": [],
   "source": [
    "def plot_compare_assets_across_risk_measures_2(risk_fn, SB_p, SB_N, savepath):\n",
    "    factor = 4\n",
    "    xsize = 3*factor\n",
    "    ysize = 2*factor\n",
    "\n",
    "    fig, axs = plt.subplots(nrows=2,ncols=3, figsize=(xsize, ysize), sharex=True, sharey=True)\n",
    "\n",
    "    HE_outer2 = []\n",
    "    for p, rm in enumerate(risk_measures[:-1]):\n",
    "        HE_outer = []\n",
    "        for q, rn in enumerate(order):\n",
    "            if rm != 'CH':\n",
    "                path = './results/%s/MM/rh_%s_copula_selection.csv'\\\n",
    "                %(rn, rm)\n",
    "            else:\n",
    "                path = './results/%s/MM/rh_cross_hedge.csv'\\\n",
    "                %(rn)    \n",
    "            _df = pd.read_csv(path)\n",
    "\n",
    "            samples = SB(np.array(_df.loc[:,['rh', 'rs']]), SB_p, SB_N)\n",
    "\n",
    "            HE = []\n",
    "            for s in samples:\n",
    "                risk_rh = risk_fn(s[:,0])\n",
    "                risk_rs = risk_fn(s[:,1])\n",
    "                HE.append(1-risk_rh/risk_rs)\n",
    "                \n",
    "            HE_outer.append(HE)\n",
    "        HE_outer2.append(HE_outer)\n",
    "\n",
    "        if p<=2:\n",
    "            axs[0, p].boxplot(HE_outer, showfliers=False)\n",
    "            axs[0, p].set_title(rm)\n",
    "            \n",
    "        else:\n",
    "            axs[1, p-3].boxplot(HE_outer, showfliers=False)\n",
    "            axs[1, p-3].set_title(rm)\n",
    "\n",
    "    plt.tight_layout()\n",
    "    for p, a in enumerate(axs):\n",
    "        xtickNames = plt.setp(axs[p], xticklabels=coin_names)\n",
    "        plt.setp(xtickNames, rotation=90, fontsize=8)\n",
    "        \n",
    "    plt.savefig(savepath, transparent=True)"
   ]
  },
  {
   "cell_type": "code",
   "execution_count": 8,
   "metadata": {},
   "outputs": [
    {
     "data": {
      "image/png": "[encoded data removed]",
      "text/plain": [
       "<Figure size 864x576 with 6 Axes>"
      ]
     },
     "metadata": {
      "needs_background": "light"
     },
     "output_type": "display_data"
    }
   ],
   "source": [
    "risk_fn = lambda x: ES(0.05, x)\n",
    "plot_compare_assets_across_risk_measures_2(risk_fn, 1/200, 1000, 'ES5_HE_boxplot.pdf')"
   ]
  }
 ],
 "metadata": {
  "kernelspec": {
   "display_name": "Python 3",
   "language": "python",
   "name": "python3"
  },
  "language_info": {
   "codemirror_mode": {
    "name": "ipython",
    "version": 3
   },
   "file_extension": ".py",
   "mimetype": "text/x-python",
   "name": "python",
   "nbconvert_exporter": "python",
   "pygments_lexer": "ipython3",
   "version": "3.7.4"
  },
  "toc": {
   "base_numbering": 1,
   "nav_menu": {},
   "number_sections": true,
   "sideBar": true,
   "skip_h1_title": false,
   "title_cell": "Table of Contents",
   "title_sidebar": "Contents",
   "toc_cell": false,
   "toc_position": {},
   "toc_section_display": true,
   "toc_window_display": false
  }
 },
 "nbformat": 4,
 "nbformat_minor": 2
}
